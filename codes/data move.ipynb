{
 "cells": [
  {
   "cell_type": "code",
   "execution_count": 1,
   "metadata": {},
   "outputs": [],
   "source": [
    "from shutil import copyfile\n",
    "from glob import glob\n",
    "from tqdm import tqdm\n",
    "import os"
   ]
  },
  {
   "cell_type": "code",
   "execution_count": 2,
   "metadata": {},
   "outputs": [],
   "source": [
    "def movefiles(filepath, movepath):\n",
    "    copyfile(filepath, movepath)"
   ]
  },
  {
   "cell_type": "code",
   "execution_count": 3,
   "metadata": {},
   "outputs": [],
   "source": [
    "train_paths = glob(os.path.join('data', 'train', '*', '*.jpg'))\n",
    "test_paths = glob(os.path.join('data', 'test', '*', '*.jpg'))"
   ]
  },
  {
   "cell_type": "code",
   "execution_count": 5,
   "metadata": {},
   "outputs": [
    {
     "name": "stdout",
     "output_type": "stream",
     "text": [
      "95454 8000\n"
     ]
    }
   ],
   "source": [
    "print(len(train_paths), len(test_paths))"
   ]
  },
  {
   "cell_type": "code",
   "execution_count": 10,
   "metadata": {},
   "outputs": [],
   "source": [
    "train_rename = ['./data/train_all/' + train_path.split('/')[-1] for train_path in train_paths]\n",
    "test_rename = ['./data/test_all/' + test_path.split('/')[-1] for test_path in test_paths]"
   ]
  },
  {
   "cell_type": "code",
   "execution_count": 11,
   "metadata": {},
   "outputs": [
    {
     "name": "stdout",
     "output_type": "stream",
     "text": [
      "95454 8000\n"
     ]
    }
   ],
   "source": [
    "print(len(train_rename), len(test_rename))"
   ]
  },
  {
   "cell_type": "code",
   "execution_count": 12,
   "metadata": {},
   "outputs": [
    {
     "name": "stdout",
     "output_type": "stream",
     "text": [
      "data/train/g/g6fd1og1ia.jpg ./data/train_all/g6fd1og1ia.jpg\n"
     ]
    }
   ],
   "source": [
    "print(train_paths[0], train_rename[0])"
   ]
  },
  {
   "cell_type": "code",
   "execution_count": 13,
   "metadata": {},
   "outputs": [
    {
     "name": "stderr",
     "output_type": "stream",
     "text": [
      "100%|██████████| 95454/95454 [01:05<00:00, 1463.21it/s]\n"
     ]
    }
   ],
   "source": [
    "for i in tqdm(range(len(train_paths))):\n",
    "    copyfile(train_paths[i], train_rename[i])"
   ]
  },
  {
   "cell_type": "code",
   "execution_count": 14,
   "metadata": {},
   "outputs": [
    {
     "name": "stderr",
     "output_type": "stream",
     "text": [
      "100%|██████████| 8000/8000 [00:06<00:00, 1288.86it/s]\n"
     ]
    }
   ],
   "source": [
    "for i in tqdm(range(len(test_paths))):\n",
    "    copyfile(test_paths[i], test_rename[i])"
   ]
  },
  {
   "cell_type": "code",
   "execution_count": null,
   "metadata": {},
   "outputs": [],
   "source": []
  }
 ],
 "metadata": {
  "kernelspec": {
   "display_name": "aiffel",
   "language": "python",
   "name": "aiffel"
  },
  "language_info": {
   "codemirror_mode": {
    "name": "ipython",
    "version": 3
   },
   "file_extension": ".py",
   "mimetype": "text/x-python",
   "name": "python",
   "nbconvert_exporter": "python",
   "pygments_lexer": "ipython3",
   "version": "3.7.7"
  }
 },
 "nbformat": 4,
 "nbformat_minor": 4
}
